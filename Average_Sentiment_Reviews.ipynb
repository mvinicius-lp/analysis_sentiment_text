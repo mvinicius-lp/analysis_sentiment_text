{
 "cells": [
  {
   "cell_type": "code",
   "execution_count": 8,
   "id": "efea8081-5cb9-4db5-b3a6-87424ccb38fa",
   "metadata": {},
   "outputs": [
    {
     "name": "stdout",
     "output_type": "stream",
     "text": [
      "Comentário 1: Sentimento positivo\n",
      "Comentário 2: Sentimento negativo\n",
      "Comentário 3: Sentimento positivo\n",
      "Comentário 4: Sentimento positivo\n",
      "Comentário 5: Sentimento negativo\n",
      "\n",
      "Média de Sentimentos:\n",
      "Positivo: 60.00%\n",
      "Negativo: 40.00%\n",
      "Neutro: 0.00%\n"
     ]
    },
    {
     "name": "stderr",
     "output_type": "stream",
     "text": [
      "[nltk_data] Downloading package vader_lexicon to\n",
      "[nltk_data]     C:\\Users\\mvinn\\AppData\\Roaming\\nltk_data...\n",
      "[nltk_data]   Package vader_lexicon is already up-to-date!\n"
     ]
    }
   ],
   "source": [
    "import nltk\n",
    "from nltk.sentiment import SentimentIntensityAnalyzer\n",
    "\n",
    "# Baixar recursos necessários do NLTK (apenas na primeira execução)\n",
    "nltk.download('vader_lexicon')\n",
    "\n",
    "# Instanciar o analisador de sentimentos\n",
    "sid = SentimentIntensityAnalyzer()\n",
    "\n",
    "# Função para realizar a análise de sentimentos em um comentário\n",
    "def analisar_sentimento(comentario):\n",
    "    # Obter a pontuação de sentimento\n",
    "    sentimento = sid.polarity_scores(comentario)\n",
    "    \n",
    "    # Classificar o sentimento com base na pontuação composta\n",
    "    if sentimento['compound'] >= 0.1:\n",
    "        return 'positivo'\n",
    "    elif sentimento['compound'] <= -0.1:\n",
    "        return 'negativo'\n",
    "    else:\n",
    "        return 'neutro'\n",
    "\n",
    "# Função para calcular médias de sentimentos\n",
    "def calcular_medias(sentimentos):\n",
    "    total_positivo = 0\n",
    "    total_negativo = 0\n",
    "    total_neutro = 0\n",
    "    total = len(sentimentos)\n",
    "\n",
    "    for sentimento in sentimentos:\n",
    "        if sentimento == 'positivo':\n",
    "            total_positivo += 1\n",
    "        elif sentimento == 'negativo':\n",
    "            total_negativo += 1\n",
    "        else:\n",
    "            total_neutro += 1\n",
    "    \n",
    "    media_positivo = total_positivo / total * 100\n",
    "    media_negativo = total_negativo / total * 100\n",
    "    media_neutro = total_neutro / total * 100\n",
    "\n",
    "    return media_positivo, media_negativo, media_neutro\n",
    "\n",
    "# Exemplo de conjunto de dados de comentários de avaliação de aplicativos\n",
    "comentarios = [\n",
    "    \"This app is amazing! Very useful and easy to use.\",\n",
    "    \"I didn't like this app. Very slow and full of bugs.\",\n",
    "    \"The best app I've ever used! I recommend it to everyone.\",\n",
    "    \"The app crashed several times on my device. Needs improvements.\",\n",
    "    \"It works well most of the time, but sometimes it becomes unstable.\",\n",
    "]\n",
    "\n",
    "# Realizar análise de sentimentos em cada comentário\n",
    "sentimentos = []\n",
    "for i, comentario in enumerate(comentarios, 1):\n",
    "    classificacao = analisar_sentimento(comentario)\n",
    "    sentimentos.append(classificacao)\n",
    "    print(f\"Comentário {i}: Sentimento {classificacao}\")\n",
    "\n",
    "# Calcular médias de sentimentos\n",
    "media_positivo, media_negativo, media_neutro = calcular_medias(sentimentos)\n",
    "print(\"\\nMédia de Sentimentos:\")\n",
    "print(f\"Positivo: {media_positivo:.2f}%\")\n",
    "print(f\"Negativo: {media_negativo:.2f}%\")\n",
    "print(f\"Neutro: {media_neutro:.2f}%\")\n"
   ]
  },
  {
   "cell_type": "code",
   "execution_count": null,
   "id": "111efa47-1192-4ac4-b382-5df2636d4b59",
   "metadata": {},
   "outputs": [],
   "source": []
  }
 ],
 "metadata": {
  "kernelspec": {
   "display_name": "Python 3 (ipykernel)",
   "language": "python",
   "name": "python3"
  },
  "language_info": {
   "codemirror_mode": {
    "name": "ipython",
    "version": 3
   },
   "file_extension": ".py",
   "mimetype": "text/x-python",
   "name": "python",
   "nbconvert_exporter": "python",
   "pygments_lexer": "ipython3",
   "version": "3.11.7"
  }
 },
 "nbformat": 4,
 "nbformat_minor": 5
}
