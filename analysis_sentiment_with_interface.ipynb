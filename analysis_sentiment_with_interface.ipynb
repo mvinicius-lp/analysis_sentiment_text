{
 "cells": [
  {
   "cell_type": "code",
   "execution_count": 1,
   "id": "337596ba-b024-4f2b-ba41-d6a49c3f8baa",
   "metadata": {},
   "outputs": [
    {
     "name": "stderr",
     "output_type": "stream",
     "text": [
      "[nltk_data] Downloading package vader_lexicon to\n",
      "[nltk_data]     C:\\Users\\mvinn\\AppData\\Roaming\\nltk_data...\n",
      "[nltk_data]   Package vader_lexicon is already up-to-date!\n"
     ]
    }
   ],
   "source": [
    "import nltk\n",
    "from nltk.sentiment import SentimentIntensityAnalyzer\n",
    "import tkinter as tk\n",
    "from tkinter import messagebox\n",
    "\n",
    "# Baixar recursos necessários do NLTK (apenas na primeira execução)\n",
    "nltk.download('vader_lexicon')\n",
    "\n",
    "# Instanciar o analisador de sentimentos\n",
    "sid = SentimentIntensityAnalyzer()\n",
    "\n",
    "# Função para analisar o sentimento\n",
    "def analisar_sentimento():\n",
    "    texto = entrada_texto.get(\"1.0\", \"end\").strip() # Obter o texto digitado pelo usuário\n",
    "    if texto:\n",
    "        sentimento = sid.polarity_scores(texto)\n",
    "        if sentimento['compound'] >= 0.05:\n",
    "            messagebox.showinfo(\"Análise de Sentimento\", \"Sentimento positivo.\")\n",
    "        elif sentimento['compound'] <= -0.05:\n",
    "            messagebox.showinfo(\"Análise de Sentimento\", \"Sentimento negativo.\")\n",
    "        else:\n",
    "            messagebox.showinfo(\"Análise de Sentimento\", \"Sentimento neutro.\")\n",
    "    else:\n",
    "        messagebox.showwarning(\"Aviso\", \"Por favor, digite algum texto.\")\n",
    "\n",
    "# Criar a janela principal\n",
    "janela = tk.Tk()\n",
    "janela.title(\"Análise de Sentimento\")\n",
    "\n",
    "# Criar um widget de entrada de texto\n",
    "entrada_texto = tk.Text(janela, height=10, width=50)\n",
    "entrada_texto.pack(pady=10)\n",
    "\n",
    "# Criar um botão para realizar a análise de sentimento\n",
    "botao_analisar = tk.Button(janela, text=\"Analisar Sentimento\", command=analisar_sentimento)\n",
    "botao_analisar.pack()\n",
    "\n",
    "# Executar o loop principal da janela\n",
    "janela.mainloop()\n"
   ]
  },
  {
   "cell_type": "code",
   "execution_count": null,
   "id": "2a43eb3c-499d-4ab4-bd79-465fe4ad6836",
   "metadata": {},
   "outputs": [],
   "source": []
  }
 ],
 "metadata": {
  "kernelspec": {
   "display_name": "Python 3 (ipykernel)",
   "language": "python",
   "name": "python3"
  },
  "language_info": {
   "codemirror_mode": {
    "name": "ipython",
    "version": 3
   },
   "file_extension": ".py",
   "mimetype": "text/x-python",
   "name": "python",
   "nbconvert_exporter": "python",
   "pygments_lexer": "ipython3",
   "version": "3.11.7"
  }
 },
 "nbformat": 4,
 "nbformat_minor": 5
}
